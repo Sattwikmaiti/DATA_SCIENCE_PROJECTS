{
  "nbformat": 4,
  "nbformat_minor": 0,
  "metadata": {
    "colab": {
      "name": "Temperature_Forecast_ARIMA.ipynb",
      "provenance": [],
      "toc_visible": true,
      "include_colab_link": true
    },
    "kernelspec": {
      "name": "python3",
      "display_name": "Python 3"
    }
  },
  "cells": [
    {
      "cell_type": "markdown",
      "metadata": {
        "id": "view-in-github",
        "colab_type": "text"
      },
      "source": [
        "<a href=\"https://colab.research.google.com/github/Sattwikmaiti/DATA_SCIENCE_PROJECTS/blob/master/Temperature_Forecast_ARIMA.ipynb\" target=\"_parent\"><img src=\"https://colab.research.google.com/assets/colab-badge.svg\" alt=\"Open In Colab\"/></a>"
      ]
    },
    {
      "cell_type": "code",
      "metadata": {
        "id": "rgI5xsf7eUVw"
      },
      "source": [
        "pip install pmdarima"
      ],
      "execution_count": null,
      "outputs": []
    },
    {
      "cell_type": "code",
      "metadata": {
        "id": "sJUCGgJAeXmn"
      },
      "source": [
        "import pandas as pd\n",
        "import numpy as np"
      ],
      "execution_count": null,
      "outputs": []
    },
    {
      "cell_type": "markdown",
      "metadata": {
        "id": "kzMWL_bGvvuY"
      },
      "source": [
        "#Read Data"
      ]
    },
    {
      "cell_type": "code",
      "metadata": {
        "id": "rKYgCgvcebUM",
        "colab": {
          "base_uri": "https://localhost:8080/",
          "height": 243
        },
        "outputId": "8d11db02-ce47-432f-a9f6-dd8b06c79dd3"
      },
      "source": [
        "df=pd.read_csv('/content/MaunaLoaDailyTemps.csv',index_col='DATE',parse_dates=True)\n",
        "df=df.dropna()\n",
        "print('Shape of data',df.shape)\n",
        "df.head()"
      ],
      "execution_count": null,
      "outputs": [
        {
          "output_type": "stream",
          "text": [
            "Shape of data (1821, 5)\n"
          ],
          "name": "stdout"
        },
        {
          "output_type": "execute_result",
          "data": {
            "text/html": [
              "<div>\n",
              "<style scoped>\n",
              "    .dataframe tbody tr th:only-of-type {\n",
              "        vertical-align: middle;\n",
              "    }\n",
              "\n",
              "    .dataframe tbody tr th {\n",
              "        vertical-align: top;\n",
              "    }\n",
              "\n",
              "    .dataframe thead th {\n",
              "        text-align: right;\n",
              "    }\n",
              "</style>\n",
              "<table border=\"1\" class=\"dataframe\">\n",
              "  <thead>\n",
              "    <tr style=\"text-align: right;\">\n",
              "      <th></th>\n",
              "      <th>MinTemp</th>\n",
              "      <th>MaxTemp</th>\n",
              "      <th>AvgTemp</th>\n",
              "      <th>Sunrise</th>\n",
              "      <th>Sunset</th>\n",
              "    </tr>\n",
              "    <tr>\n",
              "      <th>DATE</th>\n",
              "      <th></th>\n",
              "      <th></th>\n",
              "      <th></th>\n",
              "      <th></th>\n",
              "      <th></th>\n",
              "    </tr>\n",
              "  </thead>\n",
              "  <tbody>\n",
              "    <tr>\n",
              "      <th>2014-01-01</th>\n",
              "      <td>33.0</td>\n",
              "      <td>46.0</td>\n",
              "      <td>40.0</td>\n",
              "      <td>657</td>\n",
              "      <td>1756</td>\n",
              "    </tr>\n",
              "    <tr>\n",
              "      <th>2014-01-02</th>\n",
              "      <td>35.0</td>\n",
              "      <td>50.0</td>\n",
              "      <td>43.0</td>\n",
              "      <td>657</td>\n",
              "      <td>1756</td>\n",
              "    </tr>\n",
              "    <tr>\n",
              "      <th>2014-01-03</th>\n",
              "      <td>36.0</td>\n",
              "      <td>45.0</td>\n",
              "      <td>41.0</td>\n",
              "      <td>657</td>\n",
              "      <td>1757</td>\n",
              "    </tr>\n",
              "    <tr>\n",
              "      <th>2014-01-04</th>\n",
              "      <td>32.0</td>\n",
              "      <td>41.0</td>\n",
              "      <td>37.0</td>\n",
              "      <td>658</td>\n",
              "      <td>1757</td>\n",
              "    </tr>\n",
              "    <tr>\n",
              "      <th>2014-01-05</th>\n",
              "      <td>24.0</td>\n",
              "      <td>38.0</td>\n",
              "      <td>31.0</td>\n",
              "      <td>658</td>\n",
              "      <td>1758</td>\n",
              "    </tr>\n",
              "  </tbody>\n",
              "</table>\n",
              "</div>"
            ],
            "text/plain": [
              "            MinTemp  MaxTemp  AvgTemp  Sunrise  Sunset\n",
              "DATE                                                  \n",
              "2014-01-01     33.0     46.0     40.0      657    1756\n",
              "2014-01-02     35.0     50.0     43.0      657    1756\n",
              "2014-01-03     36.0     45.0     41.0      657    1757\n",
              "2014-01-04     32.0     41.0     37.0      658    1757\n",
              "2014-01-05     24.0     38.0     31.0      658    1758"
            ]
          },
          "metadata": {
            "tags": []
          },
          "execution_count": 2
        }
      ]
    },
    {
      "cell_type": "markdown",
      "metadata": {
        "id": "kVswd7W7vyi4"
      },
      "source": [
        "#Plot Your Data"
      ]
    },
    {
      "cell_type": "code",
      "metadata": {
        "id": "KppUuT8-ejqD",
        "colab": {
          "base_uri": "https://localhost:8080/",
          "height": 334
        },
        "outputId": "aabcf955-c76b-436f-8f4d-b1f1f35a975c"
      },
      "source": [
        "df['AvgTemp'].plot(figsize=(12,5))"
      ],
      "execution_count": null,
      "outputs": [
        {
          "output_type": "execute_result",
          "data": {
            "text/plain": [
              "<matplotlib.axes._subplots.AxesSubplot at 0x7f15e0036400>"
            ]
          },
          "metadata": {
            "tags": []
          },
          "execution_count": 3
        },
        {
          "output_type": "display_data",
          "data": {
            "image/png": "[encoded data removed]",
            "text/plain": [
              "<Figure size 864x360 with 1 Axes>"
            ]
          },
          "metadata": {
            "tags": [],
            "needs_background": "light"
          }
        }
      ]
    },
    {
      "cell_type": "markdown",
      "metadata": {
        "id": "2YK8qw2Gv1bT"
      },
      "source": [
        "#Check For Stationarity"
      ]
    },
    {
      "cell_type": "code",
      "metadata": {
        "id": "8TqnvNbBexKT"
      },
      "source": [
        "from statsmodels.tsa.stattools import adfuller\n",
        "\n",
        "def adf_test(dataset):\n",
        "  dftest = adfuller(dataset, autolag = 'AIC')\n",
        "  print(\"1. ADF : \",dftest[0])\n",
        "  print(\"2. P-Value : \", dftest[1])\n",
        "  print(\"3. Num Of Lags : \", dftest[2])\n",
        "  print(\"4. Num Of Observations Used For ADF Regression and Critical Values Calculation :\", dftest[3])\n",
        "  print(\"5. Critical Values :\")\n",
        "  for key, val in dftest[4].items():\n",
        "      print(\"\\t\",key, \": \", val)"
      ],
      "execution_count": null,
      "outputs": []
    },
    {
      "cell_type": "code",
      "metadata": {
        "id": "muTlXcZYe3Jk",
        "colab": {
          "base_uri": "https://localhost:8080/",
          "height": 150
        },
        "outputId": "80456da0-cc9f-46a0-dbbc-875d9f8b5c51"
      },
      "source": [
        "adf_test(df['AvgTemp'])"
      ],
      "execution_count": null,
      "outputs": [
        {
          "output_type": "stream",
          "text": [
            "1. ADF :  -6.554680125068778\n",
            "2. P-Value :  8.675937480199557e-09\n",
            "3. Num Of Lags :  12\n",
            "4. Num Of Observations Used For ADF Regression and Critical Values Calculation : 1808\n",
            "5. Critical Values :\n",
            "\t 1% :  -3.433972018026501\n",
            "\t 5% :  -2.8631399192826676\n",
            "\t 10% :  -2.5676217442756872\n"
          ],
          "name": "stdout"
        }
      ]
    },
    {
      "cell_type": "markdown",
      "metadata": {
        "id": "XE7o8ZDEv6TV"
      },
      "source": [
        "#Figure Out Order for ARIMA Model"
      ]
    },
    {
      "cell_type": "code",
      "metadata": {
        "id": "0Y1yq4A5e6j8"
      },
      "source": [
        "from pmdarima import auto_arima\n",
        "# Ignore harmless warnings\n",
        "import warnings\n",
        "warnings.filterwarnings(\"ignore\")"
      ],
      "execution_count": null,
      "outputs": []
    },
    {
      "cell_type": "code",
      "metadata": {
        "id": "6ikhqu-mfHCA",
        "colab": {
          "base_uri": "https://localhost:8080/",
          "height": 497
        },
        "outputId": "12c50b57-0a9c-4c14-c4a3-3061d4ebd954"
      },
      "source": [
        "stepwise_fit = auto_arima(df['AvgTemp'],\n",
        "                          suppress_warnings=True)\n",
        "\n",
        "stepwise_fit.summary()"
      ],
      "execution_count": null,
      "outputs": [
        {
          "output_type": "execute_result",
          "data": {
            "text/html": [
              "<table class=\"simpletable\">\n",
              "<caption>SARIMAX Results</caption>\n",
              "<tr>\n",
              "  <th>Dep. Variable:</th>           <td>y</td>        <th>  No. Observations:  </th>   <td>1821</td>   \n",
              "</tr>\n",
              "<tr>\n",
              "  <th>Model:</th>           <td>SARIMAX(1, 0, 5)</td> <th>  Log Likelihood     </th> <td>-4139.393</td>\n",
              "</tr>\n",
              "<tr>\n",
              "  <th>Date:</th>            <td>Fri, 18 Sep 2020</td> <th>  AIC                </th> <td>8294.785</td> \n",
              "</tr>\n",
              "<tr>\n",
              "  <th>Time:</th>                <td>04:22:38</td>     <th>  BIC                </th> <td>8338.842</td> \n",
              "</tr>\n",
              "<tr>\n",
              "  <th>Sample:</th>                  <td>0</td>        <th>  HQIC               </th> <td>8311.039</td> \n",
              "</tr>\n",
              "<tr>\n",
              "  <th></th>                      <td> - 1821</td>     <th>                     </th>     <td> </td>    \n",
              "</tr>\n",
              "<tr>\n",
              "  <th>Covariance Type:</th>        <td>opg</td>       <th>                     </th>     <td> </td>    \n",
              "</tr>\n",
              "</table>\n",
              "<table class=\"simpletable\">\n",
              "<tr>\n",
              "      <td></td>         <th>coef</th>     <th>std err</th>      <th>z</th>      <th>P>|z|</th>  <th>[0.025</th>    <th>0.975]</th>  \n",
              "</tr>\n",
              "<tr>\n",
              "  <th>intercept</th> <td>    1.2330</td> <td>    0.370</td> <td>    3.331</td> <td> 0.001</td> <td>    0.508</td> <td>    1.958</td>\n",
              "</tr>\n",
              "<tr>\n",
              "  <th>ar.L1</th>     <td>    0.9735</td> <td>    0.008</td> <td>  122.152</td> <td> 0.000</td> <td>    0.958</td> <td>    0.989</td>\n",
              "</tr>\n",
              "<tr>\n",
              "  <th>ma.L1</th>     <td>   -0.1221</td> <td>    0.024</td> <td>   -5.137</td> <td> 0.000</td> <td>   -0.169</td> <td>   -0.076</td>\n",
              "</tr>\n",
              "<tr>\n",
              "  <th>ma.L2</th>     <td>   -0.2201</td> <td>    0.024</td> <td>   -9.113</td> <td> 0.000</td> <td>   -0.267</td> <td>   -0.173</td>\n",
              "</tr>\n",
              "<tr>\n",
              "  <th>ma.L3</th>     <td>   -0.2022</td> <td>    0.024</td> <td>   -8.446</td> <td> 0.000</td> <td>   -0.249</td> <td>   -0.155</td>\n",
              "</tr>\n",
              "<tr>\n",
              "  <th>ma.L4</th>     <td>   -0.1371</td> <td>    0.023</td> <td>   -6.016</td> <td> 0.000</td> <td>   -0.182</td> <td>   -0.092</td>\n",
              "</tr>\n",
              "<tr>\n",
              "  <th>ma.L5</th>     <td>   -0.0506</td> <td>    0.024</td> <td>   -2.072</td> <td> 0.038</td> <td>   -0.098</td> <td>   -0.003</td>\n",
              "</tr>\n",
              "<tr>\n",
              "  <th>sigma2</th>    <td>    5.5035</td> <td>    0.172</td> <td>   31.914</td> <td> 0.000</td> <td>    5.165</td> <td>    5.841</td>\n",
              "</tr>\n",
              "</table>\n",
              "<table class=\"simpletable\">\n",
              "<tr>\n",
              "  <th>Ljung-Box (Q):</th>          <td>35.25</td> <th>  Jarque-Bera (JB):  </th> <td>20.53</td>\n",
              "</tr>\n",
              "<tr>\n",
              "  <th>Prob(Q):</th>                <td>0.68</td>  <th>  Prob(JB):          </th> <td>0.00</td> \n",
              "</tr>\n",
              "<tr>\n",
              "  <th>Heteroskedasticity (H):</th> <td>0.81</td>  <th>  Skew:              </th> <td>-0.17</td>\n",
              "</tr>\n",
              "<tr>\n",
              "  <th>Prob(H) (two-sided):</th>    <td>0.01</td>  <th>  Kurtosis:          </th> <td>3.39</td> \n",
              "</tr>\n",
              "</table><br/><br/>Warnings:<br/>[1] Covariance matrix calculated using the outer product of gradients (complex-step)."
            ],
            "text/plain": [
              "<class 'statsmodels.iolib.summary.Summary'>\n",
              "\"\"\"\n",
              "                               SARIMAX Results                                \n",
              "==============================================================================\n",
              "Dep. Variable:                      y   No. Observations:                 1821\n",
              "Model:               SARIMAX(1, 0, 5)   Log Likelihood               -4139.393\n",
              "Date:                Fri, 18 Sep 2020   AIC                           8294.785\n",
              "Time:                        04:22:38   BIC                           8338.842\n",
              "Sample:                             0   HQIC                          8311.039\n",
              "                               - 1821                                         \n",
              "Covariance Type:                  opg                                         \n",
              "==============================================================================\n",
              "                 coef    std err          z      P>|z|      [0.025      0.975]\n",
              "------------------------------------------------------------------------------\n",
              "intercept      1.2330      0.370      3.331      0.001       0.508       1.958\n",
              "ar.L1          0.9735      0.008    122.152      0.000       0.958       0.989\n",
              "ma.L1         -0.1221      0.024     -5.137      0.000      -0.169      -0.076\n",
              "ma.L2         -0.2201      0.024     -9.113      0.000      -0.267      -0.173\n",
              "ma.L3         -0.2022      0.024     -8.446      0.000      -0.249      -0.155\n",
              "ma.L4         -0.1371      0.023     -6.016      0.000      -0.182      -0.092\n",
              "ma.L5         -0.0506      0.024     -2.072      0.038      -0.098      -0.003\n",
              "sigma2         5.5035      0.172     31.914      0.000       5.165       5.841\n",
              "===================================================================================\n",
              "Ljung-Box (Q):                       35.25   Jarque-Bera (JB):                20.53\n",
              "Prob(Q):                              0.68   Prob(JB):                         0.00\n",
              "Heteroskedasticity (H):               0.81   Skew:                            -0.17\n",
              "Prob(H) (two-sided):                  0.01   Kurtosis:                         3.39\n",
              "===================================================================================\n",
              "\n",
              "Warnings:\n",
              "[1] Covariance matrix calculated using the outer product of gradients (complex-step).\n",
              "\"\"\""
            ]
          },
          "metadata": {
            "tags": []
          },
          "execution_count": 7
        }
      ]
    },
    {
      "cell_type": "code",
      "metadata": {
        "id": "i2OiS6-gfKHs"
      },
      "source": [
        "from statsmodels.tsa.arima_model import ARIMA"
      ],
      "execution_count": null,
      "outputs": []
    },
    {
      "cell_type": "markdown",
      "metadata": {
        "id": "y-JQDC6yv9_y"
      },
      "source": [
        "#Split Data into Training and Testing"
      ]
    },
    {
      "cell_type": "code",
      "metadata": {
        "id": "h-SgGft2fYMF",
        "colab": {
          "base_uri": "https://localhost:8080/",
          "height": 234
        },
        "outputId": "44f0e4aa-b673-4f81-e3cb-a9ee81948ee4"
      },
      "source": [
        "print(df.shape)\n",
        "train=df.iloc[:-30]\n",
        "test=df.iloc[-30:]\n",
        "print(train.shape,test.shape)\n",
        "print(test.iloc[0],test.iloc[-1])"
      ],
      "execution_count": null,
      "outputs": [
        {
          "output_type": "stream",
          "text": [
            "(1821, 5)\n",
            "(1791, 5) (30, 5)\n",
            "MinTemp      36.0\n",
            "MaxTemp      52.0\n",
            "AvgTemp      44.0\n",
            "Sunrise     640.0\n",
            "Sunset     1743.0\n",
            "Name: 2018-12-01 00:00:00, dtype: float64 MinTemp      39.0\n",
            "MaxTemp      52.0\n",
            "AvgTemp      46.0\n",
            "Sunrise     656.0\n",
            "Sunset     1754.0\n",
            "Name: 2018-12-30 00:00:00, dtype: float64\n"
          ],
          "name": "stdout"
        }
      ]
    },
    {
      "cell_type": "markdown",
      "metadata": {
        "id": "emUTK7M6wCmx"
      },
      "source": [
        "## Train the Model"
      ]
    },
    {
      "cell_type": "code",
      "metadata": {
        "id": "LKr5XHt0fbWT",
        "colab": {
          "base_uri": "https://localhost:8080/",
          "height": 470
        },
        "outputId": "78d6a43a-ed4b-48b3-9bea-20fb185ed8e4"
      },
      "source": [
        "from statsmodels.tsa.arima_model import ARIMA\n",
        "model=ARIMA(train['AvgTemp'],order=(1,0,5))\n",
        "model=model.fit()\n",
        "model.summary()\n"
      ],
      "execution_count": null,
      "outputs": [
        {
          "output_type": "execute_result",
          "data": {
            "text/html": [
              "<table class=\"simpletable\">\n",
              "<caption>ARMA Model Results</caption>\n",
              "<tr>\n",
              "  <th>Dep. Variable:</th>      <td>AvgTemp</td>     <th>  No. Observations:  </th>   <td>1821</td>   \n",
              "</tr>\n",
              "<tr>\n",
              "  <th>Model:</th>            <td>ARMA(1, 5)</td>    <th>  Log Likelihood     </th> <td>-4138.130</td>\n",
              "</tr>\n",
              "<tr>\n",
              "  <th>Method:</th>             <td>css-mle</td>     <th>  S.D. of innovations</th>   <td>2.347</td>  \n",
              "</tr>\n",
              "<tr>\n",
              "  <th>Date:</th>          <td>Fri, 18 Sep 2020</td> <th>  AIC                </th> <td>8292.261</td> \n",
              "</tr>\n",
              "<tr>\n",
              "  <th>Time:</th>              <td>04:23:48</td>     <th>  BIC                </th> <td>8336.318</td> \n",
              "</tr>\n",
              "<tr>\n",
              "  <th>Sample:</th>                <td>0</td>        <th>  HQIC               </th> <td>8308.514</td> \n",
              "</tr>\n",
              "<tr>\n",
              "  <th></th>                       <td> </td>        <th>                     </th>     <td> </td>    \n",
              "</tr>\n",
              "</table>\n",
              "<table class=\"simpletable\">\n",
              "<tr>\n",
              "        <td></td>           <th>coef</th>     <th>std err</th>      <th>z</th>      <th>P>|z|</th>  <th>[0.025</th>    <th>0.975]</th>  \n",
              "</tr>\n",
              "<tr>\n",
              "  <th>const</th>         <td>   46.5293</td> <td>    0.787</td> <td>   59.148</td> <td> 0.000</td> <td>   44.988</td> <td>   48.071</td>\n",
              "</tr>\n",
              "<tr>\n",
              "  <th>ar.L1.AvgTemp</th> <td>    0.9860</td> <td>    0.006</td> <td>  155.004</td> <td> 0.000</td> <td>    0.974</td> <td>    0.998</td>\n",
              "</tr>\n",
              "<tr>\n",
              "  <th>ma.L1.AvgTemp</th> <td>   -0.1403</td> <td>    0.024</td> <td>   -5.754</td> <td> 0.000</td> <td>   -0.188</td> <td>   -0.092</td>\n",
              "</tr>\n",
              "<tr>\n",
              "  <th>ma.L2.AvgTemp</th> <td>   -0.2328</td> <td>    0.024</td> <td>   -9.641</td> <td> 0.000</td> <td>   -0.280</td> <td>   -0.185</td>\n",
              "</tr>\n",
              "<tr>\n",
              "  <th>ma.L3.AvgTemp</th> <td>   -0.2163</td> <td>    0.025</td> <td>   -8.502</td> <td> 0.000</td> <td>   -0.266</td> <td>   -0.166</td>\n",
              "</tr>\n",
              "<tr>\n",
              "  <th>ma.L4.AvgTemp</th> <td>   -0.1478</td> <td>    0.023</td> <td>   -6.352</td> <td> 0.000</td> <td>   -0.193</td> <td>   -0.102</td>\n",
              "</tr>\n",
              "<tr>\n",
              "  <th>ma.L5.AvgTemp</th> <td>   -0.0587</td> <td>    0.024</td> <td>   -2.413</td> <td> 0.016</td> <td>   -0.106</td> <td>   -0.011</td>\n",
              "</tr>\n",
              "</table>\n",
              "<table class=\"simpletable\">\n",
              "<caption>Roots</caption>\n",
              "<tr>\n",
              "    <td></td>   <th>            Real</th>  <th>         Imaginary</th> <th>         Modulus</th>  <th>        Frequency</th>\n",
              "</tr>\n",
              "<tr>\n",
              "  <th>AR.1</th> <td>           1.0142</td> <td>          +0.0000j</td> <td>           1.0142</td> <td>           0.0000</td>\n",
              "</tr>\n",
              "<tr>\n",
              "  <th>MA.1</th> <td>           1.0867</td> <td>          -0.0000j</td> <td>           1.0867</td> <td>          -0.0000</td>\n",
              "</tr>\n",
              "<tr>\n",
              "  <th>MA.2</th> <td>           0.0537</td> <td>          -1.8503j</td> <td>           1.8511</td> <td>          -0.2454</td>\n",
              "</tr>\n",
              "<tr>\n",
              "  <th>MA.3</th> <td>           0.0537</td> <td>          +1.8503j</td> <td>           1.8511</td> <td>           0.2454</td>\n",
              "</tr>\n",
              "<tr>\n",
              "  <th>MA.4</th> <td>          -1.8566</td> <td>          -1.0630j</td> <td>           2.1394</td> <td>          -0.4172</td>\n",
              "</tr>\n",
              "<tr>\n",
              "  <th>MA.5</th> <td>          -1.8566</td> <td>          +1.0630j</td> <td>           2.1394</td> <td>           0.4172</td>\n",
              "</tr>\n",
              "</table>"
            ],
            "text/plain": [
              "<class 'statsmodels.iolib.summary.Summary'>\n",
              "\"\"\"\n",
              "                              ARMA Model Results                              \n",
              "==============================================================================\n",
              "Dep. Variable:                AvgTemp   No. Observations:                 1821\n",
              "Model:                     ARMA(1, 5)   Log Likelihood               -4138.130\n",
              "Method:                       css-mle   S.D. of innovations              2.347\n",
              "Date:                Fri, 18 Sep 2020   AIC                           8292.261\n",
              "Time:                        04:23:48   BIC                           8336.318\n",
              "Sample:                             0   HQIC                          8308.514\n",
              "                                                                              \n",
              "=================================================================================\n",
              "                    coef    std err          z      P>|z|      [0.025      0.975]\n",
              "---------------------------------------------------------------------------------\n",
              "const            46.5293      0.787     59.148      0.000      44.988      48.071\n",
              "ar.L1.AvgTemp     0.9860      0.006    155.004      0.000       0.974       0.998\n",
              "ma.L1.AvgTemp    -0.1403      0.024     -5.754      0.000      -0.188      -0.092\n",
              "ma.L2.AvgTemp    -0.2328      0.024     -9.641      0.000      -0.280      -0.185\n",
              "ma.L3.AvgTemp    -0.2163      0.025     -8.502      0.000      -0.266      -0.166\n",
              "ma.L4.AvgTemp    -0.1478      0.023     -6.352      0.000      -0.193      -0.102\n",
              "ma.L5.AvgTemp    -0.0587      0.024     -2.413      0.016      -0.106      -0.011\n",
              "                                    Roots                                    \n",
              "=============================================================================\n",
              "                  Real          Imaginary           Modulus         Frequency\n",
              "-----------------------------------------------------------------------------\n",
              "AR.1            1.0142           +0.0000j            1.0142            0.0000\n",
              "MA.1            1.0867           -0.0000j            1.0867           -0.0000\n",
              "MA.2            0.0537           -1.8503j            1.8511           -0.2454\n",
              "MA.3            0.0537           +1.8503j            1.8511            0.2454\n",
              "MA.4           -1.8566           -1.0630j            2.1394           -0.4172\n",
              "MA.5           -1.8566           +1.0630j            2.1394            0.4172\n",
              "-----------------------------------------------------------------------------\n",
              "\"\"\""
            ]
          },
          "metadata": {
            "tags": []
          },
          "execution_count": 12
        }
      ]
    },
    {
      "cell_type": "markdown",
      "metadata": {
        "id": "QnJXQ4iBwFec"
      },
      "source": [
        "#Make Predictions on Test Set"
      ]
    },
    {
      "cell_type": "code",
      "metadata": {
        "id": "2ZtJTygKfg5i",
        "colab": {
          "base_uri": "https://localhost:8080/",
          "height": 331
        },
        "outputId": "46053cf4-b267-4cb8-c89d-fbb7f1fc079c"
      },
      "source": [
        "start=len(train)\n",
        "end=len(train)+len(test)-1\n",
        "#if the predicted values dont have date values as index, you will have to uncomment the following two commented lines to plot a graph\n",
        "#index_future_dates=pd.date_range(start='2018-12-01',end='2018-12-30')\n",
        "pred=model.predict(start=start,end=end,typ='levels').rename('ARIMA predictions')\n",
        "#pred.index=index_future_dates\n",
        "pred.plot(legend=True)\n",
        "test['AvgTemp'].plot(legend=True)\n"
      ],
      "execution_count": null,
      "outputs": [
        {
          "output_type": "execute_result",
          "data": {
            "text/plain": [
              "<matplotlib.axes._subplots.AxesSubplot at 0x7f15c3aa47f0>"
            ]
          },
          "metadata": {
            "tags": []
          },
          "execution_count": 13
        },
        {
          "output_type": "display_data",
          "data": {
            "image/png": "[encoded data removed]",
            "text/plain": [
              "<Figure size 432x288 with 1 Axes>"
            ]
          },
          "metadata": {
            "tags": [],
            "needs_background": "light"
          }
        }
      ]
    },
    {
      "cell_type": "code",
      "metadata": {
        "id": "grTT31Tdfqfb",
        "colab": {
          "base_uri": "https://localhost:8080/",
          "height": 331
        },
        "outputId": "8caf1342-cc91-496f-c4ca-9159007add83"
      },
      "source": [
        "pred.plot(legend='ARIMA Predictions')\n",
        "test['AvgTemp'].plot(legend=True)"
      ],
      "execution_count": null,
      "outputs": [
        {
          "output_type": "execute_result",
          "data": {
            "text/plain": [
              "<matplotlib.axes._subplots.AxesSubplot at 0x7f15c37b9f60>"
            ]
          },
          "metadata": {
            "tags": []
          },
          "execution_count": 14
        },
        {
          "output_type": "display_data",
          "data": {
            "image/png": "[encoded data removed]",
            "text/plain": [
              "<Figure size 432x288 with 1 Axes>"
            ]
          },
          "metadata": {
            "tags": [],
            "needs_background": "light"
          }
        }
      ]
    },
    {
      "cell_type": "code",
      "metadata": {
        "id": "3R2eTZHDfz5H",
        "colab": {
          "base_uri": "https://localhost:8080/",
          "height": 33
        },
        "outputId": "8dcb8e41-f96d-4adf-9784-21342aacb1a4"
      },
      "source": [
        "test['AvgTemp'].mean()"
      ],
      "execution_count": null,
      "outputs": [
        {
          "output_type": "execute_result",
          "data": {
            "text/plain": [
              "45.0"
            ]
          },
          "metadata": {
            "tags": []
          },
          "execution_count": 15
        }
      ]
    },
    {
      "cell_type": "code",
      "metadata": {
        "id": "zQ7SB2lQux5x",
        "colab": {
          "base_uri": "https://localhost:8080/",
          "height": 33
        },
        "outputId": "740e2eeb-e2b0-42ac-ec76-58da663146e9"
      },
      "source": [
        "from sklearn.metrics import mean_squared_error\n",
        "from math import sqrt\n",
        "rmse=sqrt(mean_squared_error(pred,test['AvgTemp']))\n",
        "print(rmse)\n"
      ],
      "execution_count": null,
      "outputs": [
        {
          "output_type": "stream",
          "text": [
            "2.326343714317439\n"
          ],
          "name": "stdout"
        }
      ]
    },
    {
      "cell_type": "code",
      "metadata": {
        "id": "DgJUq_lGvV10",
        "colab": {
          "base_uri": "https://localhost:8080/",
          "height": 226
        },
        "outputId": "c4087b3d-d92b-44ce-b116-fa1c7ffd3b47"
      },
      "source": [
        "model2=ARIMA(df['AvgTemp'],order=(1,0,5))\n",
        "model2=model2.fit()\n",
        "df.tail()"
      ],
      "execution_count": null,
      "outputs": [
        {
          "output_type": "execute_result",
          "data": {
            "text/html": [
              "<div>\n",
              "<style scoped>\n",
              "    .dataframe tbody tr th:only-of-type {\n",
              "        vertical-align: middle;\n",
              "    }\n",
              "\n",
              "    .dataframe tbody tr th {\n",
              "        vertical-align: top;\n",
              "    }\n",
              "\n",
              "    .dataframe thead th {\n",
              "        text-align: right;\n",
              "    }\n",
              "</style>\n",
              "<table border=\"1\" class=\"dataframe\">\n",
              "  <thead>\n",
              "    <tr style=\"text-align: right;\">\n",
              "      <th></th>\n",
              "      <th>MinTemp</th>\n",
              "      <th>MaxTemp</th>\n",
              "      <th>AvgTemp</th>\n",
              "      <th>Sunrise</th>\n",
              "      <th>Sunset</th>\n",
              "    </tr>\n",
              "    <tr>\n",
              "      <th>DATE</th>\n",
              "      <th></th>\n",
              "      <th></th>\n",
              "      <th></th>\n",
              "      <th></th>\n",
              "      <th></th>\n",
              "    </tr>\n",
              "  </thead>\n",
              "  <tbody>\n",
              "    <tr>\n",
              "      <th>2018-12-26</th>\n",
              "      <td>35.0</td>\n",
              "      <td>45.0</td>\n",
              "      <td>40.0</td>\n",
              "      <td>654</td>\n",
              "      <td>1752</td>\n",
              "    </tr>\n",
              "    <tr>\n",
              "      <th>2018-12-27</th>\n",
              "      <td>33.0</td>\n",
              "      <td>44.0</td>\n",
              "      <td>39.0</td>\n",
              "      <td>655</td>\n",
              "      <td>1752</td>\n",
              "    </tr>\n",
              "    <tr>\n",
              "      <th>2018-12-28</th>\n",
              "      <td>33.0</td>\n",
              "      <td>47.0</td>\n",
              "      <td>40.0</td>\n",
              "      <td>655</td>\n",
              "      <td>1753</td>\n",
              "    </tr>\n",
              "    <tr>\n",
              "      <th>2018-12-29</th>\n",
              "      <td>36.0</td>\n",
              "      <td>47.0</td>\n",
              "      <td>42.0</td>\n",
              "      <td>655</td>\n",
              "      <td>1753</td>\n",
              "    </tr>\n",
              "    <tr>\n",
              "      <th>2018-12-30</th>\n",
              "      <td>39.0</td>\n",
              "      <td>52.0</td>\n",
              "      <td>46.0</td>\n",
              "      <td>656</td>\n",
              "      <td>1754</td>\n",
              "    </tr>\n",
              "  </tbody>\n",
              "</table>\n",
              "</div>"
            ],
            "text/plain": [
              "            MinTemp  MaxTemp  AvgTemp  Sunrise  Sunset\n",
              "DATE                                                  \n",
              "2018-12-26     35.0     45.0     40.0      654    1752\n",
              "2018-12-27     33.0     44.0     39.0      655    1752\n",
              "2018-12-28     33.0     47.0     40.0      655    1753\n",
              "2018-12-29     36.0     47.0     42.0      655    1753\n",
              "2018-12-30     39.0     52.0     46.0      656    1754"
            ]
          },
          "metadata": {
            "tags": []
          },
          "execution_count": 17
        }
      ]
    },
    {
      "cell_type": "markdown",
      "metadata": {
        "id": "hQ4chXSmvSZw"
      },
      "source": [
        "#For Future Dates"
      ]
    },
    {
      "cell_type": "code",
      "metadata": {
        "id": "ZsjzMPfKqVag",
        "colab": {
          "base_uri": "https://localhost:8080/",
          "height": 552
        },
        "outputId": "8de3772d-8613-4db7-91d4-673d3a1909e9"
      },
      "source": [
        "index_future_dates=pd.date_range(start='2018-12-30',end='2019-01-29')\n",
        "#print(index_future_dates)\n",
        "pred=model2.predict(start=len(df),end=len(df)+30,typ='levels').rename('ARIMA Predictions')\n",
        "#print(comp_pred)\n",
        "pred.index=index_future_dates\n",
        "print(pred)"
      ],
      "execution_count": null,
      "outputs": [
        {
          "output_type": "stream",
          "text": [
            "2018-12-30    46.418064\n",
            "2018-12-31    46.113783\n",
            "2019-01-01    45.617772\n",
            "2019-01-02    45.249555\n",
            "2019-01-03    45.116984\n",
            "2019-01-04    45.136771\n",
            "2019-01-05    45.156280\n",
            "2019-01-06    45.175516\n",
            "2019-01-07    45.194482\n",
            "2019-01-08    45.213183\n",
            "2019-01-09    45.231622\n",
            "2019-01-10    45.249802\n",
            "2019-01-11    45.267728\n",
            "2019-01-12    45.285403\n",
            "2019-01-13    45.302830\n",
            "2019-01-14    45.320012\n",
            "2019-01-15    45.336955\n",
            "2019-01-16    45.353659\n",
            "2019-01-17    45.370130\n",
            "2019-01-18    45.386370\n",
            "2019-01-19    45.402383\n",
            "2019-01-20    45.418171\n",
            "2019-01-21    45.433738\n",
            "2019-01-22    45.449087\n",
            "2019-01-23    45.464221\n",
            "2019-01-24    45.479143\n",
            "2019-01-25    45.493855\n",
            "2019-01-26    45.508362\n",
            "2019-01-27    45.522665\n",
            "2019-01-28    45.536769\n",
            "2019-01-29    45.550674\n",
            "Freq: D, Name: ARIMA Predictions, dtype: float64\n"
          ],
          "name": "stdout"
        }
      ]
    },
    {
      "cell_type": "code",
      "metadata": {
        "id": "hPgempSauwqo",
        "colab": {
          "base_uri": "https://localhost:8080/",
          "height": 372
        },
        "outputId": "3dc42a39-ff4d-4c6e-ac68-0cef1ffe7d01"
      },
      "source": [
        "pred.plot(figsize=(12,5),legend=True)\n"
      ],
      "execution_count": null,
      "outputs": [
        {
          "output_type": "execute_result",
          "data": {
            "text/plain": [
              "<matplotlib.axes._subplots.AxesSubplot at 0x7f15c37985f8>"
            ]
          },
          "metadata": {
            "tags": []
          },
          "execution_count": 19
        },
        {
          "output_type": "display_data",
          "data": {
            "image/png": "[encoded data removed]",
            "text/plain": [
              "<Figure size 864x360 with 1 Axes>"
            ]
          },
          "metadata": {
            "tags": [],
            "needs_background": "light"
          }
        }
      ]
    },
    {
      "cell_type": "code",
      "metadata": {
        "id": "JeeTSWbZww7r"
      },
      "source": [],
      "execution_count": null,
      "outputs": []
    }
  ]
}